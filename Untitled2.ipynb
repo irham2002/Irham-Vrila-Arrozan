{
 "cells": [
  {
   "cell_type": "code",
   "execution_count": 1,
   "id": "5dbd720c",
   "metadata": {},
   "outputs": [
    {
     "name": "stdout",
     "output_type": "stream",
     "text": [
      "   |==============================================|\n",
      "   |                                              |\n",
      "   |              Program hello.ipynb             |\n",
      "   |      by irhamvrila2020@mail.ugm.ac.id        |\n",
      "   |                                              |\n",
      "   |==============================================|\n",
      "   |          Nama:Irham Vrila Arrozan            |\n",
      "   |          NIM :20/462141/PA/20113             |\n",
      "   |selamat datang di mata kuliah metode komputasi|\n",
      "   |==============================================|\n"
     ]
    }
   ],
   "source": [
    "print(\"   |==============================================|\")\n",
    "print(\"   |                                              |\")\n",
    "print(\"   |              Program hello.ipynb             |\")\n",
    "print(\"   |      by irhamvrila2020@mail.ugm.ac.id        |\")\n",
    "print(\"   |                                              |\")\n",
    "print(\"   |==============================================|\")\n",
    "print(\"   |          Nama:Irham Vrila Arrozan            |\")      \n",
    "print(\"   |          NIM :20/462141/PA/20113             |\")\n",
    "print(\"   |selamat datang di mata kuliah metode komputasi|\")\n",
    "print(\"   |==============================================|\")"
   ]
  },
  {
   "cell_type": "code",
   "execution_count": null,
   "id": "f9b50817",
   "metadata": {},
   "outputs": [],
   "source": []
  }
 ],
 "metadata": {
  "kernelspec": {
   "display_name": "Python 3",
   "language": "python",
   "name": "python3"
  },
  "language_info": {
   "codemirror_mode": {
    "name": "ipython",
    "version": 3
   },
   "file_extension": ".py",
   "mimetype": "text/x-python",
   "name": "python",
   "nbconvert_exporter": "python",
   "pygments_lexer": "ipython3",
   "version": "3.8.5"
  }
 },
 "nbformat": 4,
 "nbformat_minor": 5
}
