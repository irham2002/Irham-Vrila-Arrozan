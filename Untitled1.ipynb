{
 "cells": [
  {
   "cell_type": "code",
   "execution_count": 1,
   "id": "1cffd293",
   "metadata": {},
   "outputs": [
    {
     "name": "stdout",
     "output_type": "stream",
     "text": [
      "selamat datang di mata kuliah metode komputasi\n"
     ]
    }
   ],
   "source": [
    "#|====================================|\n",
    "#|                                    |\n",
    "#|           Program halo.py          |\n",
    "#|   by irhamvrila2020@mail.ugm.ac.id |\n",
    "#|                                    |\n",
    "#|====================================|\n",
    "#  Nama:Irham Vrila Arrozan\n",
    "#  NIM :20/462141/PA/20113\n",
    "print(\"selamat datang di mata kuliah metode komputasi\")"
   ]
  },
  {
   "cell_type": "code",
   "execution_count": 2,
   "id": "2871fd3c",
   "metadata": {},
   "outputs": [
    {
     "ename": "SyntaxError",
     "evalue": "invalid syntax (<ipython-input-2-c08ef34c2fc8>, line 1)",
     "output_type": "error",
     "traceback": [
      "\u001b[1;36m  File \u001b[1;32m\"<ipython-input-2-c08ef34c2fc8>\"\u001b[1;36m, line \u001b[1;32m1\u001b[0m\n\u001b[1;33m    |====================================|\u001b[0m\n\u001b[1;37m    ^\u001b[0m\n\u001b[1;31mSyntaxError\u001b[0m\u001b[1;31m:\u001b[0m invalid syntax\n"
     ]
    }
   ],
   "source": [
    "|====================================|\n",
    "|                                    |\n",
    "|           Program halo.py          |\n",
    "|   by irhamvrila2020@mail.ugm.ac.id |\n",
    "|                                    |\n",
    "|====================================|\n",
    "  Nama:Irham Vrila Arrozan\n",
    "  NIM :20/462141/PA/20113\n",
    "print(\"selamat datang di mata kuliah metode komputasi\")"
   ]
  },
  {
   "cell_type": "code",
   "execution_count": 14,
   "id": "073658eb",
   "metadata": {},
   "outputs": [
    {
     "name": "stdout",
     "output_type": "stream",
     "text": [
      "   |==============================================|\n",
      "   |                                              |\n",
      "   |              Program hello.py                |\n",
      "   |      by irhamvrila2020@mail.ugm.ac.id        |\n",
      "   |                                              |\n",
      "   |==============================================|\n",
      "   |          Nama:Irham Vrila Arrozan            |\n",
      "   |          NIM :20/462141/PA/20113             |\n",
      "   |selamat datang di mata kuliah metode komputasi|\n",
      "   |==============================================|\n"
     ]
    }
   ],
   "source": [
    "print(\"   |==============================================|\")\n",
    "print(\"   |                                              |\")\n",
    "print(\"   |              Program hello.ipynb             |\")\n",
    "print(\"   |      by irhamvrila2020@mail.ugm.ac.id        |\")\n",
    "print(\"   |                                              |\")\n",
    "print(\"   |==============================================|\")\n",
    "print(\"   |          Nama:Irham Vrila Arrozan            |\")      \n",
    "print(\"   |          NIM :20/462141/PA/20113             |\")\n",
    "print(\"   |selamat datang di mata kuliah metode komputasi|\")\n",
    "print(\"   |==============================================|\")"
   ]
  },
  {
   "cell_type": "code",
   "execution_count": null,
   "id": "fbfd60ec",
   "metadata": {},
   "outputs": [],
   "source": []
  },
  {
   "cell_type": "code",
   "execution_count": null,
   "id": "896ca7f6",
   "metadata": {},
   "outputs": [],
   "source": []
  }
 ],
 "metadata": {
  "kernelspec": {
   "display_name": "Python 3",
   "language": "python",
   "name": "python3"
  },
  "language_info": {
   "codemirror_mode": {
    "name": "ipython",
    "version": 3
   },
   "file_extension": ".py",
   "mimetype": "text/x-python",
   "name": "python",
   "nbconvert_exporter": "python",
   "pygments_lexer": "ipython3",
   "version": "3.8.5"
  }
 },
 "nbformat": 4,
 "nbformat_minor": 5
}
